{
 "cells": [
  {
   "cell_type": "code",
   "execution_count": 5,
   "source": [
    "import cv2\r\n",
    "import numpy as np\r\n",
    "\r\n",
    "cropping = False\r\n",
    "\r\n",
    "x_start, y_start, x_end, y_end = 0, 0, 0, 0\r\n",
    "\r\n",
    "image = cv2.imread('s/screen.png')\r\n",
    "oriImage = image.copy()\r\n",
    "\r\n",
    "\r\n",
    "\r\n",
    "def mouse_crop(event, x, y, flags, param):\r\n",
    "    # grab references to the global variables\r\n",
    "    global x_start, y_start, x_end, y_end, cropping\r\n",
    "\r\n",
    "    # if the left mouse button was DOWN, start RECORDING\r\n",
    "    # (x, y) coordinates and indicate that cropping is being\r\n",
    "    if event == cv2.EVENT_LBUTTONDOWN:\r\n",
    "        x_start, y_start, x_end, y_end = x, y, x, y\r\n",
    "        cropping = True\r\n",
    "\r\n",
    "    # Mouse is Moving\r\n",
    "    elif event == cv2.EVENT_MOUSEMOVE:\r\n",
    "        if cropping == True:\r\n",
    "            x_end, y_end = x, y\r\n",
    "\r\n",
    "    # if the left mouse button was released\r\n",
    "    elif event == cv2.EVENT_LBUTTONUP:\r\n",
    "        # record the ending (x, y) coordinates\r\n",
    "        x_end, y_end = x, y\r\n",
    "        cropping = False # cropping is finished\r\n",
    "\r\n",
    "        refPoint = [(x_start, y_start), (x_end, y_end)]\r\n",
    "\r\n",
    "        if len(refPoint) == 2: #when two points were found\r\n",
    "            roi = oriImage[refPoint[0][1]:refPoint[1][1], refPoint[0][0]:refPoint[1][0]]\r\n",
    "            cv2.imshow(\"Cropped\", roi)\r\n",
    "\r\n",
    "cv2.namedWindow(\"image\")\r\n",
    "cv2.setMouseCallback(\"image\", mouse_crop)\r\n",
    "\r\n",
    "while True:\r\n",
    "    i = image.copy()\r\n",
    "    k = cv2.waitKey(200)\r\n",
    "    if not cropping:\r\n",
    "        cv2.imshow(\"image\", image)\r\n",
    "\r\n",
    "    elif cropping:\r\n",
    "        cv2.rectangle(i, (x_start, y_start), (x_end, y_end), (255, 0, 0), 2)\r\n",
    "        cv2.imshow(\"image\", i)\r\n",
    "    if k in [27, 1048603]: # ESC key to abort, close window\r\n",
    "        cv2.destroyAllWindows()\r\n",
    "        break\r\n",
    "    \r\n",
    "\r\n",
    "# close all open windows\r\n",
    "cv2.destroyAllWindows()"
   ],
   "outputs": [],
   "metadata": {}
  }
 ],
 "metadata": {
  "orig_nbformat": 4,
  "language_info": {
   "name": "python",
   "version": "3.10.3"
  },
  "kernelspec": {
   "name": "python3",
   "display_name": "Python 3.10.3 64-bit"
  },
  "interpreter": {
   "hash": "344d67a82e873fd2857d0b64807739f0aa462da8c99071cb38d9649b961a3c37"
  }
 },
 "nbformat": 4,
 "nbformat_minor": 2
}
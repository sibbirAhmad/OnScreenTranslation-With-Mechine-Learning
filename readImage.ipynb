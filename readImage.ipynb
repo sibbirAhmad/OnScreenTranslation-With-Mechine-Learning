{
 "cells": [
  {
   "cell_type": "code",
   "execution_count": 3,
   "source": [
    "\r\n",
    "# Python code to read image\r\n",
    "import numpy as np\r\n",
    "import cv2\r\n",
    "from skimage import img_as_ubyte\t\t\r\n",
    "from skimage.color import rgb2gray\r\n",
    "from keras.models import load_model\r\n",
    " \r\n",
    "# To read image from disk, we use\r\n",
    "# cv2.imread function, in below method,\r\n",
    "model = load_model('mymodel2.h5')\r\n",
    "img = cv2.imread(\"aa.png\", cv2.IMREAD_COLOR)\r\n",
    "img_gray = rgb2gray(img)\r\n",
    "img_gray_u8 = img_as_ubyte(img_gray)\r\n",
    "#cv2.imshow(\"Window\", img_gray_u8)\r\n",
    "#Convert grayscale image to binary\r\n",
    "(thresh, im_binary) = cv2.threshold(img_gray_u8, 128, 255, cv2.THRESH_BINARY | cv2.THRESH_OTSU)\r\n",
    "img_resized = cv2.resize(im_binary,(28,28))\r\n",
    "\r\n",
    "\t#invert image\r\n",
    "im_gray_invert = 255 - img_resized\r\n",
    "cv2.imshow(\"invert image\", im_gray_invert)\r\n",
    "im_final = im_gray_invert.reshape(1,28,28,1)\r\n",
    "\r\n",
    "ans = model.predict(im_final)\r\n",
    "ans = np.argmax(ans,axis=1)[0]\r\n",
    "print(ans)\r\n",
    "\r\n",
    "cv2.putText(img,'Predicted Digit : '+str(ans),\r\n",
    "                (50,50),cv2.FONT_HERSHEY_COMPLEX,\r\n",
    "                1,(0,0,255),1)\r\n",
    "\r\n",
    "cv2.imshow(\"Original Image\",img)\r\n",
    "# if cv2.waitKey(1) and 0xFF == ord('q'):\r\n",
    "# \tbreak\r\n",
    "# Creating GUI window to display an image on screen\r\n",
    "# first Parameter is windows title (should be in string format)\r\n",
    "# Second Parameter is image array\r\n",
    "#cv2.imshow(\"Cute Kitens\", img_gray)\r\n",
    " \r\n",
    "# To hold the window on screen, we use cv2.waitKey method\r\n",
    "# Once it detected the close input, it will release the control\r\n",
    "# To the next line\r\n",
    "# First Parameter is for holding screen for specified milliseconds\r\n",
    "# It should be positive integer. If 0 pass an parameter, then it will\r\n",
    "# hold the screen until user close it.\r\n",
    "cv2.waitKey(0)\r\n",
    " \r\n",
    "# It is for removing/deleting created GUI window from screen\r\n",
    "# and memory\r\n",
    "cv2.destroyAllWindows()"
   ],
   "outputs": [
    {
     "output_type": "stream",
     "name": "stdout",
     "text": [
      "1/1 [==============================] - 3s 3s/step\n",
      "2\n"
     ]
    }
   ],
   "metadata": {}
  }
 ],
 "metadata": {
  "orig_nbformat": 4,
  "language_info": {
   "name": "python",
   "version": "3.10.3",
   "mimetype": "text/x-python",
   "codemirror_mode": {
    "name": "ipython",
    "version": 3
   },
   "pygments_lexer": "ipython3",
   "nbconvert_exporter": "python",
   "file_extension": ".py"
  },
  "kernelspec": {
   "name": "python3",
   "display_name": "Python 3.10.3 64-bit"
  },
  "interpreter": {
   "hash": "344d67a82e873fd2857d0b64807739f0aa462da8c99071cb38d9649b961a3c37"
  }
 },
 "nbformat": 4,
 "nbformat_minor": 2
}
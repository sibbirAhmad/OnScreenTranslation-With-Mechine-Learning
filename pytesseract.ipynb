{
 "cells": [
  {
   "cell_type": "code",
   "execution_count": 32,
   "source": [
    "from tkinter import *\r\n",
    "from PIL import Image\r\n",
    "import pytesseract\r\n",
    "\r\n",
    "def showText(text):\r\n",
    " root = Tk()\r\n",
    " AdviseBox = Text(root, width=50, height=20)\r\n",
    " AdviseBox.pack(side=RIGHT, expand=YES, padx=5, pady=5)\r\n",
    " AdviseBox.insert(INSERT, text)\r\n",
    " root.mainloop()\r\n",
    "#This Libray can help us to parse text as well as draw rectoangle\r\n",
    "im = Image.open(\"s/screen.png\")\r\n",
    "pytesseract.pytesseract.tesseract_cmd = r'D:/PortableApps/ocrlib/tesseract.exe'\r\n",
    "text = pytesseract.image_to_string(im, lang = 'eng')\r\n",
    "showText(text)\r\n",
    "\r\n",
    "\r\n"
   ],
   "outputs": [],
   "metadata": {}
  },
  {
   "cell_type": "code",
   "execution_count": 34,
   "source": [
    "import requests\r\n",
    "import urllib.parse\r\n",
    "def getTranslation(text):\r\n",
    " txt = text.replace(\"\\n\",\"\")\r\n",
    " URL =\"https://translate.googleapis.com/translate_a/single?client=gtx&sl=en&tl=bn&dt=t&q=\"+urllib.parse.quote(txt);\r\n",
    " r = requests.get(url = URL)\r\n",
    " data = r.json()\r\n",
    " return data;\r\n",
    "\r\n",
    "getTranslation(\"How are you?\")\r\n",
    "\r\n",
    "\r\n",
    "\r\n"
   ],
   "outputs": [
    {
     "output_type": "stream",
     "name": "stdout",
     "text": [
      "[[['আপনি কেমন আছেন?', 'How are you?', None, None, 1]], None, 'en', None, None, None, None, []]\n"
     ]
    },
    {
     "output_type": "error",
     "ename": "AttributeError",
     "evalue": "'list' object has no attribute 'rfind'",
     "traceback": [
      "\u001b[1;31m---------------------------------------------------------------------------\u001b[0m",
      "\u001b[1;31mAttributeError\u001b[0m                            Traceback (most recent call last)",
      "Input \u001b[1;32mIn [34]\u001b[0m, in \u001b[0;36m<cell line: 12>\u001b[1;34m()\u001b[0m\n\u001b[0;32m      9\u001b[0m  s\u001b[38;5;241m=\u001b[39m data\u001b[38;5;241m.\u001b[39mrfind(\u001b[38;5;124m\"\u001b[39m\u001b[38;5;124m?\u001b[39m\u001b[38;5;124m\"\u001b[39m)\n\u001b[0;32m     10\u001b[0m  \u001b[38;5;28mprint\u001b[39m(s)\n\u001b[1;32m---> 12\u001b[0m \u001b[43mgetTranslation\u001b[49m\u001b[43m(\u001b[49m\u001b[38;5;124;43m\"\u001b[39;49m\u001b[38;5;124;43mHow are you?\u001b[39;49m\u001b[38;5;124;43m\"\u001b[39;49m\u001b[43m)\u001b[49m\n",
      "Input \u001b[1;32mIn [34]\u001b[0m, in \u001b[0;36mgetTranslation\u001b[1;34m(text)\u001b[0m\n\u001b[0;32m      7\u001b[0m data \u001b[38;5;241m=\u001b[39m r\u001b[38;5;241m.\u001b[39mjson()\n\u001b[0;32m      8\u001b[0m \u001b[38;5;28mprint\u001b[39m(data)\n\u001b[1;32m----> 9\u001b[0m s\u001b[38;5;241m=\u001b[39m \u001b[43mdata\u001b[49m\u001b[38;5;241;43m.\u001b[39;49m\u001b[43mrfind\u001b[49m(\u001b[38;5;124m\"\u001b[39m\u001b[38;5;124m?\u001b[39m\u001b[38;5;124m\"\u001b[39m)\n\u001b[0;32m     10\u001b[0m \u001b[38;5;28mprint\u001b[39m(s)\n",
      "\u001b[1;31mAttributeError\u001b[0m: 'list' object has no attribute 'rfind'"
     ]
    }
   ],
   "metadata": {}
  }
 ],
 "metadata": {
  "orig_nbformat": 4,
  "language_info": {
   "name": "python",
   "version": "3.10.3",
   "mimetype": "text/x-python",
   "codemirror_mode": {
    "name": "ipython",
    "version": 3
   },
   "pygments_lexer": "ipython3",
   "nbconvert_exporter": "python",
   "file_extension": ".py"
  },
  "kernelspec": {
   "name": "python3",
   "display_name": "Python 3.10.3 64-bit"
  },
  "interpreter": {
   "hash": "344d67a82e873fd2857d0b64807739f0aa462da8c99071cb38d9649b961a3c37"
  }
 },
 "nbformat": 4,
 "nbformat_minor": 2
}
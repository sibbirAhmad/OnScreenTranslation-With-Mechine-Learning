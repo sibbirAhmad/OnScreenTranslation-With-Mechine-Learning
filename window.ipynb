{
 "cells": [
  {
   "cell_type": "code",
   "execution_count": null,
   "source": [
    "# importing cv2 module\r\n",
    "import cv2\r\n",
    "  \r\n",
    "# read the image\r\n",
    "img = cv2.imread(\"1.png\")\r\n",
    "  \r\n",
    "# showing the images\r\n",
    "cv2.imshow('P', img)\r\n",
    "cv2.imshow('Q', img)\r\n",
    "  \r\n",
    "\r\n",
    "  \r\n",
    "# using the wait key function to delay\r\n",
    "# the closing of windows till any ke is pressed\r\n",
    "cv2.waitKey(0)\r\n",
    "\r\n",
    "# Destroying All the windows\r\n",
    "cv2.destroyAllWindows()"
   ],
   "outputs": [],
   "metadata": {}
  },
  {
   "cell_type": "code",
   "execution_count": null,
   "source": [
    "import cv2\r\n",
    "import numpy as np\r\n",
    "\r\n",
    "# total_frames = 50\r\n",
    "cv2.namedWindow(\"Dragonfly Simulation\")\r\n",
    "cv2.startWindowThread()\r\n",
    "# for i in range(total_frames):\r\n",
    "while True:\r\n",
    "    # do stuff\r\n",
    "    img = np.random.randint(0,255,(200,300)).astype(np.uint8)\r\n",
    "    cv2.imshow(\"Dragonfly Simulation\", img)\r\n",
    "    key = cv2.waitKey(200)\r\n",
    "    print(key)\r\n",
    "    if key in [ord('a'), 1048673]:\r\n",
    "        print(' esc a pressed!')\r\n",
    "    elif key in [27, 1048603]: # ESC key to abort, close window\r\n",
    "        cv2.destroyAllWindows()\r\n",
    "        break\r\n",
    "\r\n",
    "# do the rest of processing after break \r\n",
    "print ('results:')"
   ],
   "outputs": [],
   "metadata": {}
  },
  {
   "cell_type": "code",
   "execution_count": 1,
   "source": [
    "import tkinter as tk\r\n",
    "\r\n",
    "root= tk.Tk()\r\n",
    "\r\n",
    "canvas1 = tk.Canvas(root, width = 300, height = 300)\r\n",
    "canvas1.pack()\r\n",
    "\r\n",
    "def hello ():  \r\n",
    "    label1 = tk.Label(root, text= 'Hello World!', fg='green', font=('helvetica', 12, 'bold'))\r\n",
    "    canvas1.create_window(150, 200, window=label1)\r\n",
    "    \r\n",
    "button1 = tk.Button(text='Click Me',command=hello, bg='brown',fg='white')\r\n",
    "canvas1.create_window(150, 150, window=button1)\r\n",
    "\r\n",
    "root.mainloop()"
   ],
   "outputs": [],
   "metadata": {}
  }
 ],
 "metadata": {
  "orig_nbformat": 4,
  "language_info": {
   "name": "python",
   "version": "3.10.3",
   "mimetype": "text/x-python",
   "codemirror_mode": {
    "name": "ipython",
    "version": 3
   },
   "pygments_lexer": "ipython3",
   "nbconvert_exporter": "python",
   "file_extension": ".py"
  },
  "kernelspec": {
   "name": "python3",
   "display_name": "Python 3.10.3 64-bit"
  },
  "interpreter": {
   "hash": "344d67a82e873fd2857d0b64807739f0aa462da8c99071cb38d9649b961a3c37"
  }
 },
 "nbformat": 4,
 "nbformat_minor": 2
}
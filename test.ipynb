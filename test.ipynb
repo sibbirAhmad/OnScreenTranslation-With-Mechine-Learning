{
 "cells": [
  {
   "cell_type": "code",
   "execution_count": 2,
   "source": [
    "import tensorflow as tf  # deep learning library. Tensors are just multi-dimensional arrays\r\n",
    "from keras.models import Sequential\r\n",
    "from keras.layers import Dense, Dropout, Flatten\r\n",
    "from keras.layers import Conv2D, MaxPooling2D\r\n",
    "import keras\r\n",
    "\r\n",
    "mnist = tf.keras.datasets.mnist  # mnist is a dataset of 28x28 images of handwritten digits and their labels\r\n",
    "(x_train, y_train),(x_test, y_test) = mnist.load_data()  # unpacks images to x_train/x_test and labels to y_train/y_test\r\n",
    "\r\n",
    "\r\n",
    "x_train = x_train.reshape(x_train.shape[0], 28, 28, 1)\r\n",
    "x_test = x_test.reshape(x_test.shape[0], 28, 28, 1)\r\n",
    "\r\n",
    "x_train = tf.keras.utils.normalize(x_train, axis=1)  # scales data between 0 and 1\r\n",
    "x_test = tf.keras.utils.normalize(x_test, axis=1)  # scales data between 0 and 1\r\n",
    "\r\n",
    "#model = tf.keras.models.Sequential()  # a basic feed-forward model\r\n",
    "#model.add(tf.keras.layers.Flatten())  # takes our 28x28 and makes it 1x784\r\n",
    "#model.add(tf.keras.layers.Dense(128, activation=tf.nn.relu))  # a simple fully-connected layer, 128 units, relu activation\r\n",
    "#model.add(tf.keras.layers.Dense(128, activation=tf.nn.relu))  # a simple fully-connected layer, 128 units, relu activation\r\n",
    "#model.add(tf.keras.layers.Dense(10, activation=tf.nn.softmax))  # our output layer. 10 units for 10 classes. Softmax for probability distribution\r\n",
    "\r\n",
    "# 6. Preprocess class labels\r\n",
    "# convert class vectors to binary class matrices\r\n",
    "y_train = keras.utils.np_utils.to_categorical(y_train, 10)\r\n",
    "y_test =keras.utils.np_utils.to_categorical(y_test, 10)\r\n",
    "\r\n",
    "model = Sequential()\r\n",
    "model.add(Conv2D(32, kernel_size=(3, 3),\r\n",
    "                 activation='relu',\r\n",
    "                 input_shape=(28,28,1)))\r\n",
    "model.add(Conv2D(64, (3, 3), activation='relu'))\r\n",
    "model.add(MaxPooling2D(pool_size=(2, 2)))\r\n",
    "model.add(Dropout(0.25))\r\n",
    "model.add(Flatten())\r\n",
    "model.add(Dense(128, activation='relu'))\r\n",
    "model.add(Dropout(0.5))\r\n",
    "model.add(Dense(10, activation='softmax'))\r\n",
    "\r\n",
    "model.compile(optimizer='Adadelta',  # Good default optimizer to start with\r\n",
    "              loss='categorical_crossentropy',  # how will we calculate our \"error.\" Neural network aims to minimize loss.\r\n",
    "              metrics=['accuracy'])  # what to track\r\n",
    "\r\n",
    "model.fit(x_train, y_train, epochs=10)  # train the model\r\n",
    "\r\n",
    "val_loss, val_acc = model.evaluate(x_test, y_test)  # evaluate the out of sample data with model\r\n",
    "print(val_loss)  # model's loss (error)\r\n",
    "print(val_acc)  # model's accuracy\r\n",
    "model.save('mymodel2.h5')"
   ],
   "outputs": [
    {
     "output_type": "stream",
     "name": "stdout",
     "text": [
      "Downloading data from https://storage.googleapis.com/tensorflow/tf-keras-datasets/mnist.npz\n",
      "11490434/11490434 [==============================] - 19s 2us/step\n",
      "Epoch 1/10\n",
      "1875/1875 [==============================] - 225s 114ms/step - loss: 2.2950 - accuracy: 0.1563\n",
      "Epoch 2/10\n",
      "1875/1875 [==============================] - 234s 125ms/step - loss: 2.2647 - accuracy: 0.2970\n",
      "Epoch 3/10\n",
      "1875/1875 [==============================] - 209s 112ms/step - loss: 2.2049 - accuracy: 0.4034\n",
      "Epoch 4/10\n",
      "1875/1875 [==============================] - 196s 105ms/step - loss: 2.0829 - accuracy: 0.4884\n",
      "Epoch 5/10\n",
      "1875/1875 [==============================] - 207s 110ms/step - loss: 1.8463 - accuracy: 0.5698\n",
      "Epoch 6/10\n",
      "1875/1875 [==============================] - 209s 111ms/step - loss: 1.5107 - accuracy: 0.6292\n",
      "Epoch 7/10\n",
      "1875/1875 [==============================] - 207s 110ms/step - loss: 1.2177 - accuracy: 0.6737\n",
      "Epoch 8/10\n",
      "1875/1875 [==============================] - 192s 103ms/step - loss: 1.0276 - accuracy: 0.7092\n",
      "Epoch 9/10\n",
      "1875/1875 [==============================] - 188s 100ms/step - loss: 0.9127 - accuracy: 0.7329\n",
      "Epoch 10/10\n",
      "1875/1875 [==============================] - 195s 104ms/step - loss: 0.8350 - accuracy: 0.7508\n",
      "313/313 [==============================] - 16s 21ms/step - loss: 0.6121 - accuracy: 0.8483\n",
      "0.6120508909225464\n",
      "0.8482999801635742\n"
     ]
    }
   ],
   "metadata": {}
  },
  {
   "cell_type": "code",
   "execution_count": null,
   "source": [],
   "outputs": [],
   "metadata": {}
  }
 ],
 "metadata": {
  "orig_nbformat": 4,
  "language_info": {
   "name": "python",
   "version": "3.10.3",
   "mimetype": "text/x-python",
   "codemirror_mode": {
    "name": "ipython",
    "version": 3
   },
   "pygments_lexer": "ipython3",
   "nbconvert_exporter": "python",
   "file_extension": ".py"
  },
  "kernelspec": {
   "name": "python3",
   "display_name": "Python 3.10.3 64-bit"
  },
  "interpreter": {
   "hash": "344d67a82e873fd2857d0b64807739f0aa462da8c99071cb38d9649b961a3c37"
  }
 },
 "nbformat": 4,
 "nbformat_minor": 2
}
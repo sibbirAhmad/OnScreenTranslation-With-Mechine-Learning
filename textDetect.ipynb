{
 "cells": [
  {
   "cell_type": "code",
   "execution_count": 23,
   "source": [
    "\r\n",
    "import pytesseract\r\n",
    "import cv2\r\n",
    "\r\n",
    "originalImg = cv2.imread('1.png')\r\n",
    "originalImg = cv2.resize(originalImg, None, fx=2.5, fy=2.5)\r\n",
    "img = cv2.cvtColor(originalImg, cv2.COLOR_BGR2GRAY)\r\n",
    "_,img = cv2.threshold(img,100,255,cv2.THRESH_BINARY)\r\n",
    "\r\n",
    "h, w = img.shape\r\n",
    "\r\n",
    "letters = pytesseract.image_to_boxes(img)\r\n",
    "letters = letters.split('\\n')\r\n",
    "letters = [letter.split() for letter in letters]\r\n",
    "\r\n",
    "for letter in letters:    \r\n",
    "    cv2.rectangle(originalImg, (int(letter[1]), h - int(letter[2])), (int(letter[3]), h - int(letter[4])), (0,0,255), 1)\r\n",
    "\r\n",
    "cv2.imshow('', originalImg)\r\n",
    "# import cv2\r\n",
    "# import numpy as np\r\n",
    "\r\n",
    "# # Load image, grayscale, Gaussian blur, Otsu's threshold\r\n",
    "# image = cv2.imread('1.png')\r\n",
    "# gray = cv2.cvtColor(image, cv2.COLOR_BGR2GRAY)\r\n",
    "# blur = cv2.GaussianBlur(gray, (7,7), 0)\r\n",
    "# thresh = cv2.threshold(blur, 0, 255, cv2.THRESH_BINARY_INV + cv2.THRESH_OTSU)[1]\r\n",
    "\r\n",
    "# # Create rectangular structuring element and dilate\r\n",
    "# kernel = cv2.getStructuringElement(cv2.MORPH_RECT, (5,5))\r\n",
    "# dilate = cv2.dilate(thresh, kernel, iterations=4)\r\n",
    "\r\n",
    "# # Find contours and draw rectangle\r\n",
    "# cnts = cv2.findContours(dilate, cv2.RETR_EXTERNAL, cv2.CHAIN_APPROX_SIMPLE)\r\n",
    "# cnts = cnts[0] if len(cnts) == 2 else cnts[1]\r\n",
    "# for c in cnts:\r\n",
    "#     x,y,w,h = cv2.boundingRect(c)\r\n",
    "#     cv2.rectangle(image, (x, y), (x + w, y + h), (36,255,12), 2)\r\n",
    "\r\n",
    "# cv2.imshow('thresh', thresh)\r\n",
    "# cv2.imshow('dilate', dilate)\r\n",
    "# cv2.imshow('image', image)\r\n",
    "# cv2.waitKey()"
   ],
   "outputs": [
    {
     "output_type": "execute_result",
     "data": {
      "text/plain": [
       "-1"
      ]
     },
     "metadata": {},
     "execution_count": 23
    }
   ],
   "metadata": {}
  }
 ],
 "metadata": {
  "orig_nbformat": 4,
  "language_info": {
   "name": "python",
   "version": "3.10.3",
   "mimetype": "text/x-python",
   "codemirror_mode": {
    "name": "ipython",
    "version": 3
   },
   "pygments_lexer": "ipython3",
   "nbconvert_exporter": "python",
   "file_extension": ".py"
  },
  "kernelspec": {
   "name": "python3",
   "display_name": "Python 3.10.3 64-bit"
  },
  "interpreter": {
   "hash": "344d67a82e873fd2857d0b64807739f0aa462da8c99071cb38d9649b961a3c37"
  }
 },
 "nbformat": 4,
 "nbformat_minor": 2
}